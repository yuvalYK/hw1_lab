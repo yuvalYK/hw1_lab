{
 "cells": [
  {
   "cell_type": "code",
   "execution_count": 2,
   "id": "c8a1c3db",
   "metadata": {},
   "outputs": [],
   "source": [
    "import numpy as np\n",
    "import pandas as pd\n",
    "import matplotlib.pyplot as plt\n",
    "import statistics as st\n",
    "import scipy.stats as sp\n"
   ]
  },
  {
   "cell_type": "code",
   "execution_count": 2,
   "id": "973f67e6",
   "metadata": {},
   "outputs": [
    {
     "data": {
      "text/html": [
       "<div>\n",
       "<style scoped>\n",
       "    .dataframe tbody tr th:only-of-type {\n",
       "        vertical-align: middle;\n",
       "    }\n",
       "\n",
       "    .dataframe tbody tr th {\n",
       "        vertical-align: top;\n",
       "    }\n",
       "\n",
       "    .dataframe thead th {\n",
       "        text-align: right;\n",
       "    }\n",
       "</style>\n",
       "<table border=\"1\" class=\"dataframe\">\n",
       "  <thead>\n",
       "    <tr style=\"text-align: right;\">\n",
       "      <th></th>\n",
       "      <th>HR</th>\n",
       "      <th>O2Sat</th>\n",
       "      <th>Temp</th>\n",
       "      <th>SBP</th>\n",
       "      <th>MAP</th>\n",
       "      <th>DBP</th>\n",
       "      <th>Resp</th>\n",
       "      <th>EtCO2</th>\n",
       "      <th>BaseExcess</th>\n",
       "      <th>HCO3</th>\n",
       "      <th>...</th>\n",
       "      <th>WBC</th>\n",
       "      <th>Fibrinogen</th>\n",
       "      <th>Platelets</th>\n",
       "      <th>Age</th>\n",
       "      <th>Gender</th>\n",
       "      <th>Unit1</th>\n",
       "      <th>Unit2</th>\n",
       "      <th>HospAdmTime</th>\n",
       "      <th>ICULOS</th>\n",
       "      <th>SepsisLabel</th>\n",
       "    </tr>\n",
       "  </thead>\n",
       "  <tbody>\n",
       "    <tr>\n",
       "      <th>0</th>\n",
       "      <td>NaN</td>\n",
       "      <td>NaN</td>\n",
       "      <td>NaN</td>\n",
       "      <td>NaN</td>\n",
       "      <td>NaN</td>\n",
       "      <td>NaN</td>\n",
       "      <td>NaN</td>\n",
       "      <td>NaN</td>\n",
       "      <td>NaN</td>\n",
       "      <td>NaN</td>\n",
       "      <td>...</td>\n",
       "      <td>NaN</td>\n",
       "      <td>NaN</td>\n",
       "      <td>NaN</td>\n",
       "      <td>77</td>\n",
       "      <td>1</td>\n",
       "      <td>NaN</td>\n",
       "      <td>NaN</td>\n",
       "      <td>-10.03</td>\n",
       "      <td>1</td>\n",
       "      <td>0</td>\n",
       "    </tr>\n",
       "    <tr>\n",
       "      <th>1</th>\n",
       "      <td>90.0</td>\n",
       "      <td>98.0</td>\n",
       "      <td>NaN</td>\n",
       "      <td>142.0</td>\n",
       "      <td>98.0</td>\n",
       "      <td>84.0</td>\n",
       "      <td>17.0</td>\n",
       "      <td>NaN</td>\n",
       "      <td>NaN</td>\n",
       "      <td>NaN</td>\n",
       "      <td>...</td>\n",
       "      <td>NaN</td>\n",
       "      <td>NaN</td>\n",
       "      <td>NaN</td>\n",
       "      <td>77</td>\n",
       "      <td>1</td>\n",
       "      <td>NaN</td>\n",
       "      <td>NaN</td>\n",
       "      <td>-10.03</td>\n",
       "      <td>2</td>\n",
       "      <td>0</td>\n",
       "    </tr>\n",
       "    <tr>\n",
       "      <th>2</th>\n",
       "      <td>95.0</td>\n",
       "      <td>99.0</td>\n",
       "      <td>36.5</td>\n",
       "      <td>146.0</td>\n",
       "      <td>106.0</td>\n",
       "      <td>94.0</td>\n",
       "      <td>16.0</td>\n",
       "      <td>NaN</td>\n",
       "      <td>NaN</td>\n",
       "      <td>NaN</td>\n",
       "      <td>...</td>\n",
       "      <td>NaN</td>\n",
       "      <td>NaN</td>\n",
       "      <td>NaN</td>\n",
       "      <td>77</td>\n",
       "      <td>1</td>\n",
       "      <td>NaN</td>\n",
       "      <td>NaN</td>\n",
       "      <td>-10.03</td>\n",
       "      <td>3</td>\n",
       "      <td>0</td>\n",
       "    </tr>\n",
       "    <tr>\n",
       "      <th>3</th>\n",
       "      <td>91.0</td>\n",
       "      <td>98.0</td>\n",
       "      <td>NaN</td>\n",
       "      <td>156.0</td>\n",
       "      <td>102.0</td>\n",
       "      <td>84.0</td>\n",
       "      <td>16.0</td>\n",
       "      <td>NaN</td>\n",
       "      <td>NaN</td>\n",
       "      <td>NaN</td>\n",
       "      <td>...</td>\n",
       "      <td>NaN</td>\n",
       "      <td>NaN</td>\n",
       "      <td>NaN</td>\n",
       "      <td>77</td>\n",
       "      <td>1</td>\n",
       "      <td>NaN</td>\n",
       "      <td>NaN</td>\n",
       "      <td>-10.03</td>\n",
       "      <td>4</td>\n",
       "      <td>0</td>\n",
       "    </tr>\n",
       "    <tr>\n",
       "      <th>4</th>\n",
       "      <td>104.0</td>\n",
       "      <td>98.0</td>\n",
       "      <td>NaN</td>\n",
       "      <td>150.0</td>\n",
       "      <td>112.0</td>\n",
       "      <td>106.0</td>\n",
       "      <td>15.0</td>\n",
       "      <td>NaN</td>\n",
       "      <td>NaN</td>\n",
       "      <td>NaN</td>\n",
       "      <td>...</td>\n",
       "      <td>NaN</td>\n",
       "      <td>NaN</td>\n",
       "      <td>NaN</td>\n",
       "      <td>77</td>\n",
       "      <td>1</td>\n",
       "      <td>NaN</td>\n",
       "      <td>NaN</td>\n",
       "      <td>-10.03</td>\n",
       "      <td>5</td>\n",
       "      <td>0</td>\n",
       "    </tr>\n",
       "    <tr>\n",
       "      <th>5</th>\n",
       "      <td>81.0</td>\n",
       "      <td>99.0</td>\n",
       "      <td>NaN</td>\n",
       "      <td>134.0</td>\n",
       "      <td>97.0</td>\n",
       "      <td>84.0</td>\n",
       "      <td>15.0</td>\n",
       "      <td>NaN</td>\n",
       "      <td>NaN</td>\n",
       "      <td>NaN</td>\n",
       "      <td>...</td>\n",
       "      <td>NaN</td>\n",
       "      <td>NaN</td>\n",
       "      <td>NaN</td>\n",
       "      <td>77</td>\n",
       "      <td>1</td>\n",
       "      <td>NaN</td>\n",
       "      <td>NaN</td>\n",
       "      <td>-10.03</td>\n",
       "      <td>6</td>\n",
       "      <td>0</td>\n",
       "    </tr>\n",
       "    <tr>\n",
       "      <th>6</th>\n",
       "      <td>74.0</td>\n",
       "      <td>99.0</td>\n",
       "      <td>36.4</td>\n",
       "      <td>126.0</td>\n",
       "      <td>84.0</td>\n",
       "      <td>74.0</td>\n",
       "      <td>16.0</td>\n",
       "      <td>NaN</td>\n",
       "      <td>NaN</td>\n",
       "      <td>NaN</td>\n",
       "      <td>...</td>\n",
       "      <td>NaN</td>\n",
       "      <td>NaN</td>\n",
       "      <td>NaN</td>\n",
       "      <td>77</td>\n",
       "      <td>1</td>\n",
       "      <td>NaN</td>\n",
       "      <td>NaN</td>\n",
       "      <td>-10.03</td>\n",
       "      <td>7</td>\n",
       "      <td>0</td>\n",
       "    </tr>\n",
       "    <tr>\n",
       "      <th>7</th>\n",
       "      <td>76.0</td>\n",
       "      <td>97.0</td>\n",
       "      <td>NaN</td>\n",
       "      <td>133.0</td>\n",
       "      <td>94.0</td>\n",
       "      <td>82.0</td>\n",
       "      <td>17.0</td>\n",
       "      <td>NaN</td>\n",
       "      <td>NaN</td>\n",
       "      <td>NaN</td>\n",
       "      <td>...</td>\n",
       "      <td>NaN</td>\n",
       "      <td>NaN</td>\n",
       "      <td>NaN</td>\n",
       "      <td>77</td>\n",
       "      <td>1</td>\n",
       "      <td>NaN</td>\n",
       "      <td>NaN</td>\n",
       "      <td>-10.03</td>\n",
       "      <td>8</td>\n",
       "      <td>0</td>\n",
       "    </tr>\n",
       "    <tr>\n",
       "      <th>8</th>\n",
       "      <td>98.0</td>\n",
       "      <td>99.0</td>\n",
       "      <td>NaN</td>\n",
       "      <td>130.0</td>\n",
       "      <td>97.0</td>\n",
       "      <td>90.0</td>\n",
       "      <td>16.0</td>\n",
       "      <td>NaN</td>\n",
       "      <td>NaN</td>\n",
       "      <td>NaN</td>\n",
       "      <td>...</td>\n",
       "      <td>NaN</td>\n",
       "      <td>NaN</td>\n",
       "      <td>NaN</td>\n",
       "      <td>77</td>\n",
       "      <td>1</td>\n",
       "      <td>NaN</td>\n",
       "      <td>NaN</td>\n",
       "      <td>-10.03</td>\n",
       "      <td>9</td>\n",
       "      <td>0</td>\n",
       "    </tr>\n",
       "    <tr>\n",
       "      <th>9</th>\n",
       "      <td>88.0</td>\n",
       "      <td>99.0</td>\n",
       "      <td>NaN</td>\n",
       "      <td>108.0</td>\n",
       "      <td>82.0</td>\n",
       "      <td>73.0</td>\n",
       "      <td>15.0</td>\n",
       "      <td>NaN</td>\n",
       "      <td>NaN</td>\n",
       "      <td>NaN</td>\n",
       "      <td>...</td>\n",
       "      <td>NaN</td>\n",
       "      <td>NaN</td>\n",
       "      <td>NaN</td>\n",
       "      <td>77</td>\n",
       "      <td>1</td>\n",
       "      <td>NaN</td>\n",
       "      <td>NaN</td>\n",
       "      <td>-10.03</td>\n",
       "      <td>10</td>\n",
       "      <td>0</td>\n",
       "    </tr>\n",
       "  </tbody>\n",
       "</table>\n",
       "<p>10 rows × 41 columns</p>\n",
       "</div>"
      ],
      "text/plain": [
       "      HR  O2Sat  Temp    SBP    MAP    DBP  Resp  EtCO2  BaseExcess  HCO3  \\\n",
       "0    NaN    NaN   NaN    NaN    NaN    NaN   NaN    NaN         NaN   NaN   \n",
       "1   90.0   98.0   NaN  142.0   98.0   84.0  17.0    NaN         NaN   NaN   \n",
       "2   95.0   99.0  36.5  146.0  106.0   94.0  16.0    NaN         NaN   NaN   \n",
       "3   91.0   98.0   NaN  156.0  102.0   84.0  16.0    NaN         NaN   NaN   \n",
       "4  104.0   98.0   NaN  150.0  112.0  106.0  15.0    NaN         NaN   NaN   \n",
       "5   81.0   99.0   NaN  134.0   97.0   84.0  15.0    NaN         NaN   NaN   \n",
       "6   74.0   99.0  36.4  126.0   84.0   74.0  16.0    NaN         NaN   NaN   \n",
       "7   76.0   97.0   NaN  133.0   94.0   82.0  17.0    NaN         NaN   NaN   \n",
       "8   98.0   99.0   NaN  130.0   97.0   90.0  16.0    NaN         NaN   NaN   \n",
       "9   88.0   99.0   NaN  108.0   82.0   73.0  15.0    NaN         NaN   NaN   \n",
       "\n",
       "   ...  WBC  Fibrinogen  Platelets  Age  Gender  Unit1  Unit2  HospAdmTime  \\\n",
       "0  ...  NaN         NaN        NaN   77       1    NaN    NaN       -10.03   \n",
       "1  ...  NaN         NaN        NaN   77       1    NaN    NaN       -10.03   \n",
       "2  ...  NaN         NaN        NaN   77       1    NaN    NaN       -10.03   \n",
       "3  ...  NaN         NaN        NaN   77       1    NaN    NaN       -10.03   \n",
       "4  ...  NaN         NaN        NaN   77       1    NaN    NaN       -10.03   \n",
       "5  ...  NaN         NaN        NaN   77       1    NaN    NaN       -10.03   \n",
       "6  ...  NaN         NaN        NaN   77       1    NaN    NaN       -10.03   \n",
       "7  ...  NaN         NaN        NaN   77       1    NaN    NaN       -10.03   \n",
       "8  ...  NaN         NaN        NaN   77       1    NaN    NaN       -10.03   \n",
       "9  ...  NaN         NaN        NaN   77       1    NaN    NaN       -10.03   \n",
       "\n",
       "   ICULOS  SepsisLabel  \n",
       "0       1            0  \n",
       "1       2            0  \n",
       "2       3            0  \n",
       "3       4            0  \n",
       "4       5            0  \n",
       "5       6            0  \n",
       "6       7            0  \n",
       "7       8            0  \n",
       "8       9            0  \n",
       "9      10            0  \n",
       "\n",
       "[10 rows x 41 columns]"
      ]
     },
     "execution_count": 2,
     "metadata": {},
     "output_type": "execute_result"
    }
   ],
   "source": [
    "df = pd.read_csv(\"data/train/patient_999.psv\",sep='|')\n",
    "df.head(10)"
   ]
  },
  {
   "cell_type": "code",
   "execution_count": 3,
   "id": "5d7343ad",
   "metadata": {},
   "outputs": [],
   "source": [
    "df_list = []\n",
    "for i in range(1,20000):\n",
    "    df_temp = pd.read_csv(\"data/train/patient_\"+str(i)+\".psv\",sep='|')\n",
    "    df_list.append(df_temp)"
   ]
  },
  {
   "cell_type": "code",
   "execution_count": 4,
   "id": "12ccfaed",
   "metadata": {},
   "outputs": [],
   "source": [
    "count_nulls = {}\n",
    "for df in df_list:\n",
    "    subset_df = df.loc[:, df.isnull().all()]\n",
    "    #print(subset_df)\n",
    "    for column in subset_df.columns:\n",
    "        if column not in count_nulls.keys():\n",
    "            count_nulls[column] = 0\n",
    "        count_nulls[column] += 1\n",
    "    \n",
    "    #break"
   ]
  },
  {
   "cell_type": "code",
   "execution_count": 5,
   "id": "2dbe7929",
   "metadata": {},
   "outputs": [
    {
     "data": {
      "text/plain": [
       "{'EtCO2': 18432,\n",
       " 'SaO2': 13481,\n",
       " 'AST': 12930,\n",
       " 'Alkalinephos': 13033,\n",
       " 'Bilirubin_direct': 19000,\n",
       " 'Bilirubin_total': 12959,\n",
       " 'TroponinI': 16444,\n",
       " 'Fibrinogen': 17768,\n",
       " 'Unit1': 7686,\n",
       " 'Unit2': 7686,\n",
       " 'DBP': 3570,\n",
       " 'BaseExcess': 13425,\n",
       " 'pH': 10582,\n",
       " 'PaCO2': 10870,\n",
       " 'Calcium': 2680,\n",
       " 'Lactate': 13799,\n",
       " 'Phosphate': 6035,\n",
       " 'FiO2': 11167,\n",
       " 'HCO3': 10074,\n",
       " 'Chloride': 9457,\n",
       " 'PTT': 10069,\n",
       " 'BUN': 1001,\n",
       " 'Creatinine': 1019,\n",
       " 'Glucose': 767,\n",
       " 'Magnesium': 2469,\n",
       " 'Potassium': 915,\n",
       " 'Hct': 1155,\n",
       " 'Hgb': 1222,\n",
       " 'WBC': 1306,\n",
       " 'Platelets': 1287,\n",
       " 'SBP': 136,\n",
       " 'Resp': 36,\n",
       " 'MAP': 44,\n",
       " 'Temp': 131,\n",
       " 'O2Sat': 12,\n",
       " 'HR': 3}"
      ]
     },
     "execution_count": 5,
     "metadata": {},
     "output_type": "execute_result"
    }
   ],
   "source": [
    "count_nulls"
   ]
  },
  {
   "cell_type": "code",
   "execution_count": 6,
   "id": "768b0aab",
   "metadata": {},
   "outputs": [
    {
     "name": "stdout",
     "output_type": "stream",
     "text": [
      "EtCO2\n",
      "Bilirubin_direct\n",
      "TroponinI\n",
      "Fibrinogen\n"
     ]
    }
   ],
   "source": [
    "for key,val in count_nulls.items():\n",
    "    if val >= 15000:\n",
    "        print(key)"
   ]
  },
  {
   "cell_type": "code",
   "execution_count": null,
   "id": "268c529d",
   "metadata": {},
   "outputs": [],
   "source": []
  },
  {
   "cell_type": "code",
   "execution_count": null,
   "id": "a36d7d36",
   "metadata": {},
   "outputs": [],
   "source": []
  },
  {
   "cell_type": "code",
   "execution_count": 7,
   "id": "fa5d838f",
   "metadata": {},
   "outputs": [],
   "source": [
    "age = []\n",
    "HR = []\n",
    "temp = []\n",
    "glucose = []\n",
    "for df in df_list:\n",
    "    subset_df = df.loc[:, df.isnull().all()]\n",
    "    means = df.mean().dropna().to_dict()\n",
    "    age.append(means['Age'])\n",
    "    if \"HR\" in means.keys():\n",
    "        HR.append(means[\"HR\"])\n",
    "    if \"Temp\" in means.keys():\n",
    "        temp.append(means[\"Temp\"])\n",
    "    if \"Glucose\" in means.keys():\n",
    "        glucose.append(means[\"Glucose\"])\n",
    "    "
   ]
  },
  {
   "cell_type": "markdown",
   "id": "11d340a6",
   "metadata": {},
   "source": [
    "# distributions"
   ]
  },
  {
   "cell_type": "code",
   "execution_count": 14,
   "id": "de7fffb2",
   "metadata": {},
   "outputs": [],
   "source": [
    "def Plot(data,bins,param):\n",
    "    plt.xlim([min(data)-5, max(data)+5])\n",
    "\n",
    "    plt.hist(data, bins=bins, alpha=0.5)\n",
    "    plt.title(param+'of patients distibution')\n",
    "    plt.xlabel(param)\n",
    "    plt.ylabel('count')\n",
    "\n",
    "    plt.show()\n",
    "    print(\"mean: \",st.mean(data))\n",
    "    print(\"median: \",st.median(data))\n",
    "    print(\"std: \",np.std(data))\n",
    "    print(\"quantiles(0.05,0.95): \",np.quantile(data,0.05),np.quantile(data,0.95))"
   ]
  },
  {
   "cell_type": "code",
   "execution_count": 15,
   "id": "06c35af6",
   "metadata": {},
   "outputs": [
    {
     "data": {
      "image/png": "[encoded data removed]",
      "text/plain": [
       "<Figure size 432x288 with 1 Axes>"
      ]
     },
     "metadata": {
      "needs_background": "light"
     },
     "output_type": "display_data"
    },
    {
     "name": "stdout",
     "output_type": "stream",
     "text": [
      "mean:  61.66733986699335\n",
      "median:  63.309999999999995\n",
      "std:  16.4856483486128\n",
      "quantiles(0.05,0.95):  30.199 85.031\n"
     ]
    }
   ],
   "source": [
    "bins = np.arange(0, 100, 5)\n",
    "Plot(age,bins,\"Age \")\n"
   ]
  },
  {
   "cell_type": "code",
   "execution_count": 16,
   "id": "f6c2bbc0",
   "metadata": {},
   "outputs": [
    {
     "data": {
      "image/png": "[encoded data removed]",
      "text/plain": [
       "<Figure size 432x288 with 1 Axes>"
      ]
     },
     "metadata": {
      "needs_background": "light"
     },
     "output_type": "display_data"
    },
    {
     "name": "stdout",
     "output_type": "stream",
     "text": [
      "mean:  83.84313290483878\n",
      "median:  83.13840996168582\n",
      "std:  14.667380408036495\n",
      "quantiles(0.05,0.95):  61.225367647058825 108.89391891891891\n"
     ]
    }
   ],
   "source": [
    "bins = np.arange(0, 200, 5)\n",
    "Plot(HR,bins,\"HR \")"
   ]
  },
  {
   "cell_type": "code",
   "execution_count": 17,
   "id": "ef3ece85",
   "metadata": {},
   "outputs": [
    {
     "data": {
      "image/png": "[encoded data removed]",
      "text/plain": [
       "<Figure size 432x288 with 1 Axes>"
      ]
     },
     "metadata": {
      "needs_background": "light"
     },
     "output_type": "display_data"
    },
    {
     "name": "stdout",
     "output_type": "stream",
     "text": [
      "mean:  36.842616940319175\n",
      "median:  36.8125\n",
      "std:  0.5487273850405102\n",
      "quantiles(0.05,0.95):  36.02222222222222 37.75136607142857\n"
     ]
    }
   ],
   "source": [
    "bins = np.arange(32, 42, 0.5)\n",
    "Plot(temp,bins,\"Temperature \")"
   ]
  },
  {
   "cell_type": "code",
   "execution_count": 18,
   "id": "544a7479",
   "metadata": {},
   "outputs": [
    {
     "data": {
      "image/png": "[encoded data removed]",
      "text/plain": [
       "<Figure size 432x288 with 1 Axes>"
      ]
     },
     "metadata": {
      "needs_background": "light"
     },
     "output_type": "display_data"
    },
    {
     "name": "stdout",
     "output_type": "stream",
     "text": [
      "mean:  132.07726840449357\n",
      "median:  124.77124183006535\n",
      "std:  38.25499453361199\n",
      "quantiles(0.05,0.95):  88.66666666666667 202.33333333333334\n"
     ]
    }
   ],
   "source": [
    "bins = np.arange(0, 600, 5)\n",
    "Plot(glucose,bins,\"Glucose \")"
   ]
  },
  {
   "cell_type": "code",
   "execution_count": null,
   "id": "7e639553",
   "metadata": {},
   "outputs": [],
   "source": []
  },
  {
   "cell_type": "code",
   "execution_count": null,
   "id": "205c1157",
   "metadata": {},
   "outputs": [],
   "source": []
  },
  {
   "cell_type": "code",
   "execution_count": 16,
   "id": "6e2182f6",
   "metadata": {},
   "outputs": [],
   "source": [
    "count = 0\n",
    "age_s = []\n",
    "age_ns = []\n",
    "HR_s = []\n",
    "HR_ns = []\n",
    "temp_s = []\n",
    "temp_ns = []\n",
    "glucose_s = []\n",
    "glucose_ns = []\n",
    "\n",
    "for df in df_list:\n",
    "    subset_df = df.loc[:, df.isnull().all()]\n",
    "    means = df.mean().dropna().to_dict()\n",
    "    if means['SepsisLabel'] > 0:\n",
    "        age_s.append(means['Age'])\n",
    "        if \"HR\" in means.keys():   \n",
    "            HR_s.append(means[\"HR\"])\n",
    "        if \"Temp\" in means.keys():\n",
    "            temp_s.append(means[\"Temp\"])\n",
    "        if \"Glucose\" in means.keys():\n",
    "            glucose_s.append(means[\"Glucose\"])\n",
    "        count += 1\n",
    "    else:\n",
    "        age_ns.append(means['Age'])\n",
    "        if \"HR\" in means.keys():   \n",
    "            HR_ns.append(means[\"HR\"])\n",
    "        if \"Temp\" in means.keys():\n",
    "            temp_ns.append(means[\"Temp\"])\n",
    "        if \"Glucose\" in means.keys():\n",
    "            glucose_ns.append(means[\"Glucose\"])\n",
    "    \n",
    "    "
   ]
  },
  {
   "cell_type": "code",
   "execution_count": 17,
   "id": "86c87fff",
   "metadata": {},
   "outputs": [],
   "source": [
    "from scipy.stats import ttest_ind\n"
   ]
  },
  {
   "cell_type": "code",
   "execution_count": 18,
   "id": "4c2ab2d0",
   "metadata": {},
   "outputs": [],
   "source": [
    "def test(group1,group2):\n",
    "    group1_mean = np.mean(group1)\n",
    "    group2_mean = np.mean(group2)\n",
    "    print(\"group1 mean value:\",group1_mean)\n",
    "    print(\"group2 mean value:\",group2_mean)\n",
    "    group1_std = np.std(group1)\n",
    "    group2_std = np.std(group2)\n",
    "    print(\"group1 std value:\",group1_std)\n",
    "    print(\"group2 std value:\",group2_std)\n",
    "    ttest,pval = ttest_ind(group1,group2)\n",
    "    print(\"p-value\",pval)\n",
    "    if pval <0.05:\n",
    "        print(\"we reject null hypothesis\")\n",
    "    else:\n",
    "        print(\"we accept null hypothesis\")"
   ]
  },
  {
   "cell_type": "code",
   "execution_count": 19,
   "id": "76685e4b",
   "metadata": {},
   "outputs": [
    {
     "name": "stdout",
     "output_type": "stream",
     "text": [
      "group1 mean value: 62.250939929328624\n",
      "group2 mean value: 61.622904111063285\n",
      "group1 std value: 16.568646520655417\n",
      "group2 std value: 16.478464920713776\n",
      "p-value 0.16716986461079134\n",
      "we accept null hypothesis\n"
     ]
    }
   ],
   "source": [
    "test(age_s,age_ns)"
   ]
  },
  {
   "cell_type": "code",
   "execution_count": 20,
   "id": "2865a12d",
   "metadata": {},
   "outputs": [
    {
     "name": "stdout",
     "output_type": "stream",
     "text": [
      "group1 mean value: 89.38394582551848\n",
      "group2 mean value: 83.42118304838533\n",
      "group1 std value: 16.276034431664137\n",
      "group2 std value: 14.450791374307018\n",
      "p-value 1.9519407241221992e-49\n",
      "we reject null hypothesis\n"
     ]
    }
   ],
   "source": [
    "test(HR_s,HR_ns)"
   ]
  },
  {
   "cell_type": "code",
   "execution_count": 21,
   "id": "9ecdd235",
   "metadata": {},
   "outputs": [
    {
     "name": "stdout",
     "output_type": "stream",
     "text": [
      "group1 mean value: 37.03507106478457\n",
      "group2 mean value: 36.82803881913627\n",
      "group1 std value: 0.765401491811617\n",
      "group2 std value: 0.5258470628571246\n",
      "p-value 2.4083874519654614e-42\n",
      "we reject null hypothesis\n"
     ]
    }
   ],
   "source": [
    "test(temp_s,temp_ns)"
   ]
  },
  {
   "cell_type": "code",
   "execution_count": 22,
   "id": "8cd9eca8",
   "metadata": {},
   "outputs": [
    {
     "name": "stdout",
     "output_type": "stream",
     "text": [
      "group1 mean value: 137.97647642627197\n",
      "group2 mean value: 131.62871339405345\n",
      "group1 std value: 41.592775847509365\n",
      "group2 std value: 37.95171233847412\n",
      "p-value 3.651507499504186e-09\n",
      "we reject null hypothesis\n"
     ]
    }
   ],
   "source": [
    "test(glucose_s,glucose_ns)"
   ]
  },
  {
   "cell_type": "code",
   "execution_count": 23,
   "id": "90f130c1",
   "metadata": {},
   "outputs": [
    {
     "name": "stdout",
     "output_type": "stream",
     "text": [
      "group1 mean value: 120.93758310207815\n",
      "group2 mean value: 123.31749680648335\n",
      "group1 std value: 18.178283588466552\n",
      "group2 std value: 17.83520312776315\n",
      "p-value 2.1204431721629763e-06\n",
      "we reject null hypothesis\n",
      "group1 mean value: 206.7794872196062\n",
      "group2 mean value: 207.0676149079144\n",
      "group1 std value: 114.22267644232075\n",
      "group2 std value: 99.59149336862532\n",
      "p-value 0.920660971341787\n",
      "we accept null hypothesis\n",
      "group1 mean value: 1.6666330202308266\n",
      "group2 mean value: 1.4004900817716577\n",
      "group1 std value: 1.771978884863295\n",
      "group2 std value: 1.7363227198678506\n",
      "p-value 8.245707845258435e-08\n",
      "we reject null hypothesis\n",
      "group1 mean value: 4.094631356681591\n",
      "group2 mean value: 4.099252802767568\n",
      "group1 std value: 0.538510145925817\n",
      "group2 std value: 0.49686990219411575\n",
      "p-value 0.7432000209277823\n",
      "we accept null hypothesis\n",
      "group1 mean value: 27.55510423096047\n",
      "group2 mean value: 21.479065322627076\n",
      "group1 std value: 20.80191570105059\n",
      "group2 std value: 17.518540586514433\n",
      "p-value 5.0590686079245524e-33\n",
      "we reject null hypothesis\n"
     ]
    }
   ],
   "source": [
    "for column in ['SBP','Platelets','Creatinine','Potassium','BUN']:\n",
    "    group1 = []\n",
    "    group2 = []\n",
    "    for df in df_list:\n",
    "        subset_df = df.loc[:, df.isnull().all()]\n",
    "        means = df.mean().dropna().to_dict()\n",
    "        if means['SepsisLabel'] > 0:\n",
    "            if column in means.keys():\n",
    "                group1.append(means[column])\n",
    "        else:\n",
    "            if column in means.keys():\n",
    "                group2.append(means[column])\n",
    "    test(group1,group2)"
   ]
  },
  {
   "cell_type": "code",
   "execution_count": 5,
   "id": "99f3bb49",
   "metadata": {},
   "outputs": [],
   "source": [
    "cols = df_list[0].columns\n"
   ]
  },
  {
   "cell_type": "code",
   "execution_count": null,
   "id": "3f45bb01",
   "metadata": {},
   "outputs": [
    {
     "name": "stdout",
     "output_type": "stream",
     "text": [
      "HR 0.10424725050029793\n",
      "O2Sat 0.006445501718007579\n",
      "Temp 0.09652898833311088\n",
      "SBP -0.03363615020042052\n",
      "MAP -0.047219109320555154\n",
      "DBP -0.04427710905300364\n",
      "Resp 0.09347498080120523\n",
      "EtCO2 -0.04324374933279058\n"
     ]
    }
   ],
   "source": [
    "for col in cols:\n",
    "    if col != 'SepsisLabel':\n",
    "        Sespis = []\n",
    "        Variable_list = []\n",
    "        for df in df_list:\n",
    "            subset_df = df.loc[:, df.isnull().all()]\n",
    "            means = df.mean().dropna().to_dict()\n",
    "            if col in means.keys():\n",
    "                if means['SepsisLabel'] > 0:\n",
    "                    Variable_list.append(means[col])\n",
    "                    Sespis.append(1)\n",
    "                else:\n",
    "                    Variable_list.append(means[col])\n",
    "                    Sespis.append(0)\n",
    "    correlation, p_value = sp.pearsonr(Sespis, Variable_list)\n",
    "    print(col, correlation)\n",
    "    #break\n",
    "                "
   ]
  },
  {
   "cell_type": "code",
   "execution_count": 14,
   "id": "b2aeefe5",
   "metadata": {},
   "outputs": [
    {
     "name": "stdout",
     "output_type": "stream",
     "text": [
      "HR Temp 0.2644758603495614\n",
      "HR Resp 0.2598810524942703\n",
      "O2Sat Lactate -0.266292668775175\n",
      "Temp HR 0.2644758603495614\n",
      "Temp Unit1 -0.2553245765936638\n",
      "Temp Unit2 0.2553245765936638\n",
      "SBP MAP 0.7921415021981333\n",
      "SBP DBP 0.5258534367106246\n",
      "MAP SBP 0.7921415021981333\n",
      "MAP DBP 0.8617531188971631\n",
      "DBP SBP 0.5258534367106246\n",
      "DBP MAP 0.8617531188971631\n",
      "DBP Hct 0.31366723760993376\n",
      "DBP Hgb 0.28456138946897036\n",
      "DBP Age -0.3341424046566267\n",
      "DBP Unit1 0.29029092266610546\n",
      "DBP Unit2 -0.29029092266610546\n",
      "Resp HR 0.2598810524942703\n",
      "BaseExcess HCO3 0.8507599013623747\n",
      "BaseExcess pH 0.6199732524044843\n",
      "BaseExcess PaCO2 0.4722215577059156\n",
      "BaseExcess Calcium 0.27536570313105974\n",
      "BaseExcess Chloride -0.43036862462203146\n",
      "BaseExcess Lactate -0.4208579268024802\n",
      "HCO3 BaseExcess 0.8507599013623747\n",
      "HCO3 pH 0.29459219488982685\n",
      "HCO3 PaCO2 0.669811509034158\n",
      "HCO3 Calcium 0.2528553184496349\n",
      "HCO3 Chloride -0.44241994333984147\n",
      "HCO3 Lactate -0.3187202241358718\n",
      "pH BaseExcess 0.6199732524044843\n",
      "pH HCO3 0.29459219488982685\n",
      "pH PaCO2 -0.3424219888963381\n"
     ]
    },
    {
     "ename": "KeyboardInterrupt",
     "evalue": "",
     "output_type": "error",
     "traceback": [
      "\u001b[0;31m---------------------------------------------------------------------------\u001b[0m",
      "\u001b[0;31mKeyboardInterrupt\u001b[0m                         Traceback (most recent call last)",
      "Input \u001b[0;32mIn [14]\u001b[0m, in \u001b[0;36m<cell line: 1>\u001b[0;34m()\u001b[0m\n\u001b[1;32m      6\u001b[0m \u001b[38;5;28;01mfor\u001b[39;00m df \u001b[38;5;129;01min\u001b[39;00m df_list:\n\u001b[1;32m      7\u001b[0m     subset_df \u001b[38;5;241m=\u001b[39m df\u001b[38;5;241m.\u001b[39mloc[:, df\u001b[38;5;241m.\u001b[39misnull()\u001b[38;5;241m.\u001b[39mall()]\n\u001b[0;32m----> 8\u001b[0m     means \u001b[38;5;241m=\u001b[39m \u001b[43mdf\u001b[49m\u001b[38;5;241;43m.\u001b[39;49m\u001b[43mmean\u001b[49m\u001b[43m(\u001b[49m\u001b[43m)\u001b[49m\u001b[38;5;241m.\u001b[39mdropna()\u001b[38;5;241m.\u001b[39mto_dict()\n\u001b[1;32m      9\u001b[0m     \u001b[38;5;28;01mif\u001b[39;00m col \u001b[38;5;129;01min\u001b[39;00m means\u001b[38;5;241m.\u001b[39mkeys() \u001b[38;5;129;01mand\u001b[39;00m col2 \u001b[38;5;129;01min\u001b[39;00m means\u001b[38;5;241m.\u001b[39mkeys():\n\u001b[1;32m     10\u001b[0m         Variable_list\u001b[38;5;241m.\u001b[39mappend(means[col])\n",
      "File \u001b[0;32m~/miniconda3/envs/hw1_env/lib/python3.8/site-packages/pandas/core/generic.py:11117\u001b[0m, in \u001b[0;36mNDFrame._add_numeric_operations.<locals>.mean\u001b[0;34m(self, axis, skipna, level, numeric_only, **kwargs)\u001b[0m\n\u001b[1;32m  11099\u001b[0m \u001b[38;5;129m@doc\u001b[39m(\n\u001b[1;32m  11100\u001b[0m     _num_doc,\n\u001b[1;32m  11101\u001b[0m     desc\u001b[38;5;241m=\u001b[39m\u001b[38;5;124m\"\u001b[39m\u001b[38;5;124mReturn the mean of the values over the requested axis.\u001b[39m\u001b[38;5;124m\"\u001b[39m,\n\u001b[0;32m   (...)\u001b[0m\n\u001b[1;32m  11115\u001b[0m     \u001b[38;5;241m*\u001b[39m\u001b[38;5;241m*\u001b[39mkwargs,\n\u001b[1;32m  11116\u001b[0m ):\n\u001b[0;32m> 11117\u001b[0m     \u001b[38;5;28;01mreturn\u001b[39;00m \u001b[43mNDFrame\u001b[49m\u001b[38;5;241;43m.\u001b[39;49m\u001b[43mmean\u001b[49m\u001b[43m(\u001b[49m\u001b[38;5;28;43mself\u001b[39;49m\u001b[43m,\u001b[49m\u001b[43m \u001b[49m\u001b[43maxis\u001b[49m\u001b[43m,\u001b[49m\u001b[43m \u001b[49m\u001b[43mskipna\u001b[49m\u001b[43m,\u001b[49m\u001b[43m \u001b[49m\u001b[43mlevel\u001b[49m\u001b[43m,\u001b[49m\u001b[43m \u001b[49m\u001b[43mnumeric_only\u001b[49m\u001b[43m,\u001b[49m\u001b[43m \u001b[49m\u001b[38;5;241;43m*\u001b[39;49m\u001b[38;5;241;43m*\u001b[39;49m\u001b[43mkwargs\u001b[49m\u001b[43m)\u001b[49m\n",
      "File \u001b[0;32m~/miniconda3/envs/hw1_env/lib/python3.8/site-packages/pandas/core/generic.py:10687\u001b[0m, in \u001b[0;36mNDFrame.mean\u001b[0;34m(self, axis, skipna, level, numeric_only, **kwargs)\u001b[0m\n\u001b[1;32m  10679\u001b[0m \u001b[38;5;28;01mdef\u001b[39;00m \u001b[38;5;21mmean\u001b[39m(\n\u001b[1;32m  10680\u001b[0m     \u001b[38;5;28mself\u001b[39m,\n\u001b[1;32m  10681\u001b[0m     axis: Axis \u001b[38;5;241m|\u001b[39m \u001b[38;5;28;01mNone\u001b[39;00m \u001b[38;5;241m|\u001b[39m lib\u001b[38;5;241m.\u001b[39mNoDefault \u001b[38;5;241m=\u001b[39m lib\u001b[38;5;241m.\u001b[39mno_default,\n\u001b[0;32m   (...)\u001b[0m\n\u001b[1;32m  10685\u001b[0m     \u001b[38;5;241m*\u001b[39m\u001b[38;5;241m*\u001b[39mkwargs,\n\u001b[1;32m  10686\u001b[0m ) \u001b[38;5;241m-\u001b[39m\u001b[38;5;241m>\u001b[39m Series \u001b[38;5;241m|\u001b[39m \u001b[38;5;28mfloat\u001b[39m:\n\u001b[0;32m> 10687\u001b[0m     \u001b[38;5;28;01mreturn\u001b[39;00m \u001b[38;5;28;43mself\u001b[39;49m\u001b[38;5;241;43m.\u001b[39;49m\u001b[43m_stat_function\u001b[49m\u001b[43m(\u001b[49m\n\u001b[1;32m  10688\u001b[0m \u001b[43m        \u001b[49m\u001b[38;5;124;43m\"\u001b[39;49m\u001b[38;5;124;43mmean\u001b[39;49m\u001b[38;5;124;43m\"\u001b[39;49m\u001b[43m,\u001b[49m\u001b[43m \u001b[49m\u001b[43mnanops\u001b[49m\u001b[38;5;241;43m.\u001b[39;49m\u001b[43mnanmean\u001b[49m\u001b[43m,\u001b[49m\u001b[43m \u001b[49m\u001b[43maxis\u001b[49m\u001b[43m,\u001b[49m\u001b[43m \u001b[49m\u001b[43mskipna\u001b[49m\u001b[43m,\u001b[49m\u001b[43m \u001b[49m\u001b[43mlevel\u001b[49m\u001b[43m,\u001b[49m\u001b[43m \u001b[49m\u001b[43mnumeric_only\u001b[49m\u001b[43m,\u001b[49m\u001b[43m \u001b[49m\u001b[38;5;241;43m*\u001b[39;49m\u001b[38;5;241;43m*\u001b[39;49m\u001b[43mkwargs\u001b[49m\n\u001b[1;32m  10689\u001b[0m \u001b[43m    \u001b[49m\u001b[43m)\u001b[49m\n",
      "File \u001b[0;32m~/miniconda3/envs/hw1_env/lib/python3.8/site-packages/pandas/core/generic.py:10639\u001b[0m, in \u001b[0;36mNDFrame._stat_function\u001b[0;34m(self, name, func, axis, skipna, level, numeric_only, **kwargs)\u001b[0m\n\u001b[1;32m  10629\u001b[0m     warnings\u001b[38;5;241m.\u001b[39mwarn(\n\u001b[1;32m  10630\u001b[0m         \u001b[38;5;124m\"\u001b[39m\u001b[38;5;124mUsing the level keyword in DataFrame and Series aggregations is \u001b[39m\u001b[38;5;124m\"\u001b[39m\n\u001b[1;32m  10631\u001b[0m         \u001b[38;5;124m\"\u001b[39m\u001b[38;5;124mdeprecated and will be removed in a future version. Use groupby \u001b[39m\u001b[38;5;124m\"\u001b[39m\n\u001b[0;32m   (...)\u001b[0m\n\u001b[1;32m  10634\u001b[0m         stacklevel\u001b[38;5;241m=\u001b[39mfind_stack_level(),\n\u001b[1;32m  10635\u001b[0m     )\n\u001b[1;32m  10636\u001b[0m     \u001b[38;5;28;01mreturn\u001b[39;00m \u001b[38;5;28mself\u001b[39m\u001b[38;5;241m.\u001b[39m_agg_by_level(\n\u001b[1;32m  10637\u001b[0m         name, axis\u001b[38;5;241m=\u001b[39maxis, level\u001b[38;5;241m=\u001b[39mlevel, skipna\u001b[38;5;241m=\u001b[39mskipna, numeric_only\u001b[38;5;241m=\u001b[39mnumeric_only\n\u001b[1;32m  10638\u001b[0m     )\n\u001b[0;32m> 10639\u001b[0m \u001b[38;5;28;01mreturn\u001b[39;00m \u001b[38;5;28;43mself\u001b[39;49m\u001b[38;5;241;43m.\u001b[39;49m\u001b[43m_reduce\u001b[49m\u001b[43m(\u001b[49m\n\u001b[1;32m  10640\u001b[0m \u001b[43m    \u001b[49m\u001b[43mfunc\u001b[49m\u001b[43m,\u001b[49m\u001b[43m \u001b[49m\u001b[43mname\u001b[49m\u001b[38;5;241;43m=\u001b[39;49m\u001b[43mname\u001b[49m\u001b[43m,\u001b[49m\u001b[43m \u001b[49m\u001b[43maxis\u001b[49m\u001b[38;5;241;43m=\u001b[39;49m\u001b[43maxis\u001b[49m\u001b[43m,\u001b[49m\u001b[43m \u001b[49m\u001b[43mskipna\u001b[49m\u001b[38;5;241;43m=\u001b[39;49m\u001b[43mskipna\u001b[49m\u001b[43m,\u001b[49m\u001b[43m \u001b[49m\u001b[43mnumeric_only\u001b[49m\u001b[38;5;241;43m=\u001b[39;49m\u001b[43mnumeric_only\u001b[49m\n\u001b[1;32m  10641\u001b[0m \u001b[43m\u001b[49m\u001b[43m)\u001b[49m\n",
      "File \u001b[0;32m~/miniconda3/envs/hw1_env/lib/python3.8/site-packages/pandas/core/frame.py:9949\u001b[0m, in \u001b[0;36mDataFrame._reduce\u001b[0;34m(self, op, name, axis, skipna, numeric_only, filter_type, **kwds)\u001b[0m\n\u001b[1;32m   9946\u001b[0m \u001b[38;5;28;01mif\u001b[39;00m numeric_only \u001b[38;5;129;01mis\u001b[39;00m \u001b[38;5;28;01mNone\u001b[39;00m \u001b[38;5;129;01mand\u001b[39;00m name \u001b[38;5;129;01min\u001b[39;00m [\u001b[38;5;124m\"\u001b[39m\u001b[38;5;124mmean\u001b[39m\u001b[38;5;124m\"\u001b[39m, \u001b[38;5;124m\"\u001b[39m\u001b[38;5;124mmedian\u001b[39m\u001b[38;5;124m\"\u001b[39m]:\n\u001b[1;32m   9947\u001b[0m     own_dtypes \u001b[38;5;241m=\u001b[39m [arr\u001b[38;5;241m.\u001b[39mdtype \u001b[38;5;28;01mfor\u001b[39;00m arr \u001b[38;5;129;01min\u001b[39;00m \u001b[38;5;28mself\u001b[39m\u001b[38;5;241m.\u001b[39m_mgr\u001b[38;5;241m.\u001b[39marrays]\n\u001b[0;32m-> 9949\u001b[0m     dtype_is_dt \u001b[38;5;241m=\u001b[39m \u001b[43mnp\u001b[49m\u001b[38;5;241;43m.\u001b[39;49m\u001b[43marray\u001b[49m\u001b[43m(\u001b[49m\n\u001b[1;32m   9950\u001b[0m \u001b[43m        \u001b[49m\u001b[43m[\u001b[49m\u001b[43mis_datetime64_any_dtype\u001b[49m\u001b[43m(\u001b[49m\u001b[43mdtype\u001b[49m\u001b[43m)\u001b[49m\u001b[43m \u001b[49m\u001b[38;5;28;43;01mfor\u001b[39;49;00m\u001b[43m \u001b[49m\u001b[43mdtype\u001b[49m\u001b[43m \u001b[49m\u001b[38;5;129;43;01min\u001b[39;49;00m\u001b[43m \u001b[49m\u001b[43mown_dtypes\u001b[49m\u001b[43m]\u001b[49m\u001b[43m,\u001b[49m\n\u001b[1;32m   9951\u001b[0m \u001b[43m        \u001b[49m\u001b[43mdtype\u001b[49m\u001b[38;5;241;43m=\u001b[39;49m\u001b[38;5;28;43mbool\u001b[39;49m\u001b[43m,\u001b[49m\n\u001b[1;32m   9952\u001b[0m \u001b[43m    \u001b[49m\u001b[43m)\u001b[49m\n\u001b[1;32m   9953\u001b[0m     \u001b[38;5;28;01mif\u001b[39;00m dtype_is_dt\u001b[38;5;241m.\u001b[39many():\n\u001b[1;32m   9954\u001b[0m         warnings\u001b[38;5;241m.\u001b[39mwarn(\n\u001b[1;32m   9955\u001b[0m             \u001b[38;5;124m\"\u001b[39m\u001b[38;5;124mDataFrame.mean and DataFrame.median with numeric_only=None \u001b[39m\u001b[38;5;124m\"\u001b[39m\n\u001b[1;32m   9956\u001b[0m             \u001b[38;5;124m\"\u001b[39m\u001b[38;5;124mwill include datetime64 and datetime64tz columns in a \u001b[39m\u001b[38;5;124m\"\u001b[39m\n\u001b[0;32m   (...)\u001b[0m\n\u001b[1;32m   9959\u001b[0m             stacklevel\u001b[38;5;241m=\u001b[39mfind_stack_level(),\n\u001b[1;32m   9960\u001b[0m         )\n",
      "\u001b[0;31mKeyboardInterrupt\u001b[0m: "
     ]
    }
   ],
   "source": [
    "for col in cols:\n",
    "    for col2 in cols:\n",
    "        if col != col2:\n",
    "            Var1 = []\n",
    "            Variable_list = []\n",
    "            for df in df_list:\n",
    "                subset_df = df.loc[:, df.isnull().all()]\n",
    "                means = df.mean().dropna().to_dict()\n",
    "                if col in means.keys() and col2 in means.keys():\n",
    "                    Variable_list.append(means[col])\n",
    "                    Var1.append(means[col2])\n",
    "            correlation, p_value = sp.pearsonr(Var1, Variable_list)\n",
    "            if correlation > 0.25 or correlation < -0.25:\n",
    "                print(col,col2, correlation)"
   ]
  },
  {
   "cell_type": "code",
   "execution_count": 8,
   "id": "e22944f7",
   "metadata": {},
   "outputs": [
    {
     "data": {
      "text/plain": [
       "Index(['PaCO2', 'SaO2', 'AST', 'BUN', 'Alkalinephos', 'Calcium', 'Chloride',\n",
       "       'Creatinine', 'Bilirubin_direct', 'Glucose', 'Lactate', 'Magnesium',\n",
       "       'Phosphate', 'Potassium', 'Bilirubin_total', 'TroponinI', 'Hct', 'Hgb',\n",
       "       'PTT', 'WBC', 'Fibrinogen', 'Platelets', 'Age', 'Gender', 'Unit1',\n",
       "       'Unit2', 'HospAdmTime', 'ICULOS', 'SepsisLabel'],\n",
       "      dtype='object')"
      ]
     },
     "execution_count": 8,
     "metadata": {},
     "output_type": "execute_result"
    }
   ],
   "source": [
    "cols1 = cols[12:]\n",
    "cols1"
   ]
  },
  {
   "cell_type": "code",
   "execution_count": 13,
   "id": "94e779b2",
   "metadata": {},
   "outputs": [
    {
     "name": "stdout",
     "output_type": "stream",
     "text": [
      "PaCO2 Chloride -0.354929690119719\n",
      "AST Lactate 0.39059488994886343\n",
      "BUN Creatinine 0.6157335432062218\n",
      "BUN Phosphate 0.5467477666815274\n",
      "BUN Potassium 0.31113729369413734\n",
      "Alkalinephos Bilirubin_direct 0.29955391664891845\n",
      "Calcium Hct 0.2529584662975739\n"
     ]
    },
    {
     "ename": "KeyboardInterrupt",
     "evalue": "",
     "output_type": "error",
     "traceback": [
      "\u001b[0;31m---------------------------------------------------------------------------\u001b[0m",
      "\u001b[0;31mKeyboardInterrupt\u001b[0m                         Traceback (most recent call last)",
      "Input \u001b[0;32mIn [13]\u001b[0m, in \u001b[0;36m<cell line: 1>\u001b[0;34m()\u001b[0m\n\u001b[1;32m      5\u001b[0m Variable_list \u001b[38;5;241m=\u001b[39m []\n\u001b[1;32m      6\u001b[0m \u001b[38;5;28;01mfor\u001b[39;00m df \u001b[38;5;129;01min\u001b[39;00m df_list:\n\u001b[0;32m----> 7\u001b[0m     subset_df \u001b[38;5;241m=\u001b[39m \u001b[43mdf\u001b[49m\u001b[38;5;241;43m.\u001b[39;49m\u001b[43mloc\u001b[49m\u001b[43m[\u001b[49m\u001b[43m:\u001b[49m\u001b[43m,\u001b[49m\u001b[43m \u001b[49m\u001b[43mdf\u001b[49m\u001b[38;5;241;43m.\u001b[39;49m\u001b[43misnull\u001b[49m\u001b[43m(\u001b[49m\u001b[43m)\u001b[49m\u001b[38;5;241;43m.\u001b[39;49m\u001b[43mall\u001b[49m\u001b[43m(\u001b[49m\u001b[43m)\u001b[49m\u001b[43m]\u001b[49m\n\u001b[1;32m      8\u001b[0m     means \u001b[38;5;241m=\u001b[39m df\u001b[38;5;241m.\u001b[39mmean()\u001b[38;5;241m.\u001b[39mdropna()\u001b[38;5;241m.\u001b[39mto_dict()\n\u001b[1;32m      9\u001b[0m     \u001b[38;5;28;01mif\u001b[39;00m cols1[i] \u001b[38;5;129;01min\u001b[39;00m means\u001b[38;5;241m.\u001b[39mkeys() \u001b[38;5;129;01mand\u001b[39;00m cols1[j] \u001b[38;5;129;01min\u001b[39;00m means\u001b[38;5;241m.\u001b[39mkeys():\n",
      "File \u001b[0;32m~/miniconda3/envs/hw1_env/lib/python3.8/site-packages/pandas/core/indexing.py:961\u001b[0m, in \u001b[0;36m_LocationIndexer.__getitem__\u001b[0;34m(self, key)\u001b[0m\n\u001b[1;32m    959\u001b[0m     \u001b[38;5;28;01mif\u001b[39;00m \u001b[38;5;28mself\u001b[39m\u001b[38;5;241m.\u001b[39m_is_scalar_access(key):\n\u001b[1;32m    960\u001b[0m         \u001b[38;5;28;01mreturn\u001b[39;00m \u001b[38;5;28mself\u001b[39m\u001b[38;5;241m.\u001b[39mobj\u001b[38;5;241m.\u001b[39m_get_value(\u001b[38;5;241m*\u001b[39mkey, takeable\u001b[38;5;241m=\u001b[39m\u001b[38;5;28mself\u001b[39m\u001b[38;5;241m.\u001b[39m_takeable)\n\u001b[0;32m--> 961\u001b[0m     \u001b[38;5;28;01mreturn\u001b[39;00m \u001b[38;5;28;43mself\u001b[39;49m\u001b[38;5;241;43m.\u001b[39;49m\u001b[43m_getitem_tuple\u001b[49m\u001b[43m(\u001b[49m\u001b[43mkey\u001b[49m\u001b[43m)\u001b[49m\n\u001b[1;32m    962\u001b[0m \u001b[38;5;28;01melse\u001b[39;00m:\n\u001b[1;32m    963\u001b[0m     \u001b[38;5;66;03m# we by definition only have the 0th axis\u001b[39;00m\n\u001b[1;32m    964\u001b[0m     axis \u001b[38;5;241m=\u001b[39m \u001b[38;5;28mself\u001b[39m\u001b[38;5;241m.\u001b[39maxis \u001b[38;5;129;01mor\u001b[39;00m \u001b[38;5;241m0\u001b[39m\n",
      "File \u001b[0;32m~/miniconda3/envs/hw1_env/lib/python3.8/site-packages/pandas/core/indexing.py:1138\u001b[0m, in \u001b[0;36m_LocIndexer._getitem_tuple\u001b[0;34m(self, tup)\u001b[0m\n\u001b[1;32m   1137\u001b[0m \u001b[38;5;28;01mdef\u001b[39;00m \u001b[38;5;21m_getitem_tuple\u001b[39m(\u001b[38;5;28mself\u001b[39m, tup: \u001b[38;5;28mtuple\u001b[39m):\n\u001b[0;32m-> 1138\u001b[0m     \u001b[38;5;28;01mwith\u001b[39;00m \u001b[43msuppress\u001b[49m\u001b[43m(\u001b[49m\u001b[43mIndexingError\u001b[49m\u001b[43m)\u001b[49m:\n\u001b[1;32m   1139\u001b[0m         tup \u001b[38;5;241m=\u001b[39m \u001b[38;5;28mself\u001b[39m\u001b[38;5;241m.\u001b[39m_expand_ellipsis(tup)\n\u001b[1;32m   1140\u001b[0m         \u001b[38;5;28;01mreturn\u001b[39;00m \u001b[38;5;28mself\u001b[39m\u001b[38;5;241m.\u001b[39m_getitem_lowerdim(tup)\n",
      "File \u001b[0;32m~/miniconda3/envs/hw1_env/lib/python3.8/contextlib.py:353\u001b[0m, in \u001b[0;36msuppress.__init__\u001b[0;34m(self, *exceptions)\u001b[0m\n\u001b[1;32m    342\u001b[0m \u001b[38;5;28;01mclass\u001b[39;00m \u001b[38;5;21;01msuppress\u001b[39;00m(AbstractContextManager):\n\u001b[1;32m    343\u001b[0m     \u001b[38;5;124;03m\"\"\"Context manager to suppress specified exceptions\u001b[39;00m\n\u001b[1;32m    344\u001b[0m \n\u001b[1;32m    345\u001b[0m \u001b[38;5;124;03m    After the exception is suppressed, execution proceeds with the next\u001b[39;00m\n\u001b[0;32m   (...)\u001b[0m\n\u001b[1;32m    350\u001b[0m \u001b[38;5;124;03m         # Execution still resumes here if the file was already removed\u001b[39;00m\n\u001b[1;32m    351\u001b[0m \u001b[38;5;124;03m    \"\"\"\u001b[39;00m\n\u001b[0;32m--> 353\u001b[0m     \u001b[38;5;28;01mdef\u001b[39;00m \u001b[38;5;21m__init__\u001b[39m(\u001b[38;5;28mself\u001b[39m, \u001b[38;5;241m*\u001b[39mexceptions):\n\u001b[1;32m    354\u001b[0m         \u001b[38;5;28mself\u001b[39m\u001b[38;5;241m.\u001b[39m_exceptions \u001b[38;5;241m=\u001b[39m exceptions\n\u001b[1;32m    356\u001b[0m     \u001b[38;5;28;01mdef\u001b[39;00m \u001b[38;5;21m__enter__\u001b[39m(\u001b[38;5;28mself\u001b[39m):\n",
      "\u001b[0;31mKeyboardInterrupt\u001b[0m: "
     ]
    }
   ],
   "source": [
    "for i in range(len(cols1)):\n",
    "    for j in range(i,len(cols1)):\n",
    "        if cols1[i] != cols1[j]:\n",
    "            Var1 = []\n",
    "            Variable_list = []\n",
    "            for df in df_list:\n",
    "                subset_df = df.loc[:, df.isnull().all()]\n",
    "                means = df.mean().dropna().to_dict()\n",
    "                if cols1[i] in means.keys() and cols1[j] in means.keys():\n",
    "                    Variable_list.append(means[cols1[i]])\n",
    "                    Var1.append(means[cols1[j]])\n",
    "            correlation, p_value = sp.pearsonr(Var1, Variable_list)\n",
    "            if correlation > 0.25 or correlation < -0.25:\n",
    "                print(cols1[i],cols1[j], correlation)"
   ]
  },
  {
   "cell_type": "code",
   "execution_count": 7,
   "id": "0d1242af",
   "metadata": {},
   "outputs": [
    {
     "data": {
      "text/plain": [
       "Index(['Chloride', 'Creatinine', 'Bilirubin_direct', 'Glucose', 'Lactate',\n",
       "       'Magnesium', 'Phosphate', 'Potassium', 'Bilirubin_total', 'TroponinI',\n",
       "       'Hct', 'Hgb', 'PTT', 'WBC', 'Fibrinogen', 'Platelets', 'Age', 'Gender',\n",
       "       'Unit1', 'Unit2', 'HospAdmTime', 'ICULOS', 'SepsisLabel'],\n",
       "      dtype='object')"
      ]
     },
     "execution_count": 7,
     "metadata": {},
     "output_type": "execute_result"
    }
   ],
   "source": [
    "#print(cols)\n",
    "cols1 = cols[18:]\n",
    "cols1"
   ]
  },
  {
   "cell_type": "code",
   "execution_count": 8,
   "id": "5a8dd178",
   "metadata": {},
   "outputs": [
    {
     "name": "stdout",
     "output_type": "stream",
     "text": [
      "Creatinine Phosphate 0.5604349824231089\n",
      "Creatinine Potassium 0.2826227254406417\n",
      "Bilirubin_direct Bilirubin_total 0.9463783825555285\n",
      "Lactate PTT 0.275859937898099\n",
      "Phosphate Potassium 0.3922840031325441\n",
      "Hct Hgb 0.9521671041967281\n",
      "Fibrinogen Platelets 0.36297336989130713\n",
      "Unit1 Unit2 -1.0\n"
     ]
    }
   ],
   "source": [
    "for i in range(len(cols1)):\n",
    "    for j in range(i,len(cols1)):\n",
    "        if cols1[i] != cols1[j]:\n",
    "            Var1 = []\n",
    "            Variable_list = []\n",
    "            for df in df_list:\n",
    "                subset_df = df.loc[:, df.isnull().all()]\n",
    "                means = df.mean().dropna().to_dict()\n",
    "                if cols1[i] in means.keys() and cols1[j] in means.keys():\n",
    "                    Variable_list.append(means[cols1[i]])\n",
    "                    Var1.append(means[cols1[j]])\n",
    "            correlation, p_value = sp.pearsonr(Var1, Variable_list)\n",
    "            if correlation > 0.25 or correlation < -0.25:\n",
    "                print(cols1[i],cols1[j], correlation)"
   ]
  },
  {
   "cell_type": "code",
   "execution_count": null,
   "id": "5c03590e",
   "metadata": {},
   "outputs": [],
   "source": []
  }
 ],
 "metadata": {
  "kernelspec": {
   "display_name": "HW1 env",
   "language": "python",
   "name": "hw1_env"
  },
  "language_info": {
   "codemirror_mode": {
    "name": "ipython",
    "version": 3
   },
   "file_extension": ".py",
   "mimetype": "text/x-python",
   "name": "python",
   "nbconvert_exporter": "python",
   "pygments_lexer": "ipython3",
   "version": "3.8.13"
  }
 },
 "nbformat": 4,
 "nbformat_minor": 5
}
