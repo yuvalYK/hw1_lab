{
 "cells": [
  {
   "cell_type": "code",
   "execution_count": 1,
   "id": "7c27a2f2",
   "metadata": {
    "scrolled": true
   },
   "outputs": [
    {
     "name": "stdout",
     "output_type": "stream",
     "text": [
      "# conda environments:\r\n",
      "#\r\n",
      "base                     /data/anaconda3\r\n",
      "                         /home/student/miniconda3\r\n",
      "                      *  /home/student/miniconda3/envs/hw1_env\r\n",
      "\r\n"
     ]
    }
   ],
   "source": [
    "!conda env list"
   ]
  },
  {
   "cell_type": "code",
   "execution_count": 2,
   "id": "33e45b10",
   "metadata": {},
   "outputs": [
    {
     "name": "stdout",
     "output_type": "stream",
     "text": [
      "/home/student/miniconda3/envs/hw1_env/bin/python\r\n"
     ]
    }
   ],
   "source": [
    "!which python"
   ]
  },
  {
   "cell_type": "code",
   "execution_count": 3,
   "id": "0b09d4fa",
   "metadata": {},
   "outputs": [
    {
     "name": "stdout",
     "output_type": "stream",
     "text": [
      "/home/student/miniconda3/envs/hw1_env/bin/python\n"
     ]
    }
   ],
   "source": [
    "import sys\n",
    "print(sys.executable)"
   ]
  },
  {
   "cell_type": "code",
   "execution_count": 1,
   "id": "96caa28f",
   "metadata": {},
   "outputs": [],
   "source": [
    "#import torch"
   ]
  },
  {
   "cell_type": "code",
   "execution_count": 5,
   "id": "881489a7",
   "metadata": {},
   "outputs": [],
   "source": [
    "## notebook madness\n",
    "## original kernel uses correct python install most of the time, wrong kernel the other half\n",
    "## sklearn was also not installed in correct env"
   ]
  },
  {
   "cell_type": "code",
   "execution_count": 6,
   "id": "b9596a0b",
   "metadata": {},
   "outputs": [
    {
     "name": "stdout",
     "output_type": "stream",
     "text": [
      "# packages in environment at /home/student/miniconda3/envs/hw1_env:\r\n",
      "#\r\n",
      "# Name                    Version                   Build  Channel\r\n",
      "_libgcc_mutex             0.1                        main  \r\n",
      "_openmp_mutex             4.5                       1_gnu  \r\n",
      "anyio                     3.5.0                    pypi_0    pypi\r\n",
      "argon2-cffi               21.3.0             pyhd3eb1b0_0  \r\n",
      "argon2-cffi-bindings      21.2.0           py38h7f8727e_0  \r\n",
      "asttokens                 2.0.5              pyhd3eb1b0_0  \r\n",
      "attrs                     21.4.0             pyhd3eb1b0_0  \r\n",
      "babel                     2.10.1                   pypi_0    pypi\r\n",
      "backcall                  0.2.0              pyhd3eb1b0_0  \r\n",
      "beautifulsoup4            4.11.1           py38h06a4308_0  \r\n",
      "blas                      1.0                         mkl  \r\n",
      "bleach                    5.0.0                    pypi_0    pypi\r\n",
      "brotlipy                  0.7.0           py38h27cfd23_1003  \r\n",
      "bzip2                     1.0.8                h7b6447c_0  \r\n",
      "ca-certificates           2022.4.26            h06a4308_0  \r\n",
      "certifi                   2021.10.8        py38h06a4308_2  \r\n",
      "cffi                      1.15.0           py38hd667e15_1  \r\n",
      "charset-normalizer        2.0.12                   pypi_0    pypi\r\n",
      "cpuonly                   2.0                           0    pytorch\r\n",
      "cryptography              36.0.0           py38h9ce1e76_0  \r\n",
      "dbus                      1.13.18              hb2f20db_0  \r\n",
      "debugpy                   1.6.0                    pypi_0    pypi\r\n",
      "decorator                 5.1.1              pyhd3eb1b0_0  \r\n",
      "defusedxml                0.7.1              pyhd3eb1b0_0  \r\n",
      "entrypoints               0.4              py38h06a4308_0  \r\n",
      "executing                 0.8.3              pyhd3eb1b0_0  \r\n",
      "expat                     2.4.4                h295c915_0  \r\n",
      "fastjsonschema            2.15.3                   pypi_0    pypi\r\n",
      "ffmpeg                    4.3                  hf484d3e_0    pytorch\r\n",
      "fontconfig                2.13.1               h6c09931_0  \r\n",
      "freetype                  2.11.0               h70c0345_0  \r\n",
      "giflib                    5.2.1                h7b6447c_0  \r\n",
      "glib                      2.69.1               h4ff587b_1  \r\n",
      "gmp                       6.2.1                h2531618_2  \r\n",
      "gnutls                    3.6.15               he1e5248_0  \r\n",
      "gst-plugins-base          1.14.0               h8213a91_2  \r\n",
      "gstreamer                 1.14.0               h28cd5cc_2  \r\n",
      "icu                       58.2                 he6710b0_3  \r\n",
      "idna                      3.3                pyhd3eb1b0_0  \r\n",
      "importlib-metadata        4.11.3                   pypi_0    pypi\r\n",
      "importlib-resources       5.7.1                    pypi_0    pypi\r\n",
      "importlib_resources       5.2.0              pyhd3eb1b0_1  \r\n",
      "intel-openmp              2021.4.0          h06a4308_3561  \r\n",
      "ipykernel                 6.13.0                   pypi_0    pypi\r\n",
      "ipython                   8.3.0            py38h06a4308_0  \r\n",
      "ipython_genutils          0.2.0              pyhd3eb1b0_1  \r\n",
      "ipywidgets                7.6.5              pyhd3eb1b0_1  \r\n",
      "jedi                      0.18.1           py38h06a4308_1  \r\n",
      "jinja2                    3.1.2                    pypi_0    pypi\r\n",
      "joblib                    1.1.0                    pypi_0    pypi\r\n",
      "jpeg                      9e                   h7f8727e_0  \r\n",
      "json5                     0.9.6                    pypi_0    pypi\r\n",
      "jsonschema                4.4.0            py38h06a4308_0  \r\n",
      "jupyter                   1.0.0                    py38_7  \r\n",
      "jupyter-client            7.3.0                    pypi_0    pypi\r\n",
      "jupyter-server            1.17.0                   pypi_0    pypi\r\n",
      "jupyter_client            7.2.2            py38h06a4308_0  \r\n",
      "jupyter_console           6.4.3              pyhd3eb1b0_0  \r\n",
      "jupyter_core              4.10.0           py38h06a4308_0  \r\n",
      "jupyterlab                3.4.0                    pypi_0    pypi\r\n",
      "jupyterlab-pygments       0.2.2                    pypi_0    pypi\r\n",
      "jupyterlab-server         2.13.0                   pypi_0    pypi\r\n",
      "jupyterlab_pygments       0.1.2                      py_0  \r\n",
      "jupyterlab_widgets        1.0.0              pyhd3eb1b0_1  \r\n",
      "lame                      3.100                h7b6447c_0  \r\n",
      "lcms2                     2.12                 h3be6417_0  \r\n",
      "ld_impl_linux-64          2.35.1               h7274673_9  \r\n",
      "libffi                    3.3                  he6710b0_2  \r\n",
      "libgcc-ng                 9.3.0               h5101ec6_17  \r\n",
      "libgomp                   9.3.0               h5101ec6_17  \r\n",
      "libiconv                  1.16                 h7f8727e_2  \r\n",
      "libidn2                   2.3.2                h7f8727e_0  \r\n",
      "libpng                    1.6.37               hbc83047_0  \r\n",
      "libsodium                 1.0.18               h7b6447c_0  \r\n",
      "libstdcxx-ng              9.3.0               hd4cf53a_17  \r\n",
      "libtasn1                  4.16.0               h27cfd23_0  \r\n",
      "libtiff                   4.2.0                h85742a9_0  \r\n",
      "libunistring              0.9.10               h27cfd23_0  \r\n",
      "libuuid                   1.0.3                h7f8727e_2  \r\n",
      "libuv                     1.40.0               h7b6447c_0  \r\n",
      "libwebp                   1.2.2                h55f646e_0  \r\n",
      "libwebp-base              1.2.2                h7f8727e_0  \r\n",
      "libxcb                    1.14                 h7b6447c_0  \r\n",
      "libxml2                   2.9.12               h03d6c58_0  \r\n",
      "lz4-c                     1.9.3                h295c915_1  \r\n",
      "markupsafe                2.1.1                    pypi_0    pypi\r\n",
      "matplotlib-inline         0.1.3                    pypi_0    pypi\r\n",
      "mistune                   0.8.4           py38h7b6447c_1000  \r\n",
      "mkl                       2021.4.0           h06a4308_640  \r\n",
      "mkl-service               2.4.0            py38h7f8727e_0  \r\n",
      "mkl_fft                   1.3.1            py38hd3c417c_0  \r\n",
      "mkl_random                1.2.2            py38h51133e4_0  \r\n",
      "nbclassic                 0.3.7                    pypi_0    pypi\r\n",
      "nbclient                  0.6.2                    pypi_0    pypi\r\n",
      "nbconvert                 6.5.0                    pypi_0    pypi\r\n",
      "nbformat                  5.4.0                    pypi_0    pypi\r\n",
      "ncurses                   6.3                  h7f8727e_2  \r\n",
      "nest-asyncio              1.5.5            py38h06a4308_0  \r\n",
      "nettle                    3.7.3                hbbd107a_1  \r\n",
      "notebook                  6.4.11           py38h06a4308_0  \r\n",
      "notebook-shim             0.1.0                    pypi_0    pypi\r\n",
      "numpy                     1.20.2                   pypi_0    pypi\r\n",
      "numpy-base                1.21.5           py38hf524024_2  \r\n",
      "openh264                  2.1.1                h4ff587b_0  \r\n",
      "openssl                   1.1.1n               h7f8727e_0  \r\n",
      "packaging                 21.3               pyhd3eb1b0_0  \r\n",
      "pandas                    1.2.4                    pypi_0    pypi\r\n",
      "pandocfilters             1.5.0              pyhd3eb1b0_0  \r\n",
      "parso                     0.8.3              pyhd3eb1b0_0  \r\n",
      "pcre                      8.45                 h295c915_0  \r\n",
      "pexpect                   4.8.0              pyhd3eb1b0_3  \r\n",
      "pickleshare               0.7.5           pyhd3eb1b0_1003  \r\n",
      "pillow                    9.1.0                    pypi_0    pypi\r\n",
      "pip                       21.2.4           py38h06a4308_0  \r\n",
      "prometheus-client         0.14.1                   pypi_0    pypi\r\n",
      "prometheus_client         0.13.1             pyhd3eb1b0_0  \r\n",
      "prompt-toolkit            3.0.29                   pypi_0    pypi\r\n",
      "prompt_toolkit            3.0.20               hd3eb1b0_0  \r\n",
      "psutil                    5.9.0                    pypi_0    pypi\r\n",
      "ptyprocess                0.7.0              pyhd3eb1b0_2  \r\n",
      "pure_eval                 0.2.2              pyhd3eb1b0_0  \r\n",
      "pycparser                 2.21               pyhd3eb1b0_0  \r\n",
      "pygments                  2.12.0                   pypi_0    pypi\r\n",
      "pyopenssl                 22.0.0             pyhd3eb1b0_0  \r\n",
      "pyparsing                 3.0.8                    pypi_0    pypi\r\n",
      "pyqt                      5.9.2            py38h05f1152_4  \r\n",
      "pyrsistent                0.18.1                   pypi_0    pypi\r\n",
      "pysocks                   1.7.1            py38h06a4308_0  \r\n",
      "python                    3.8.13               h12debd9_0  \r\n",
      "python-dateutil           2.8.2              pyhd3eb1b0_0  \r\n",
      "python-fastjsonschema     2.15.1             pyhd3eb1b0_0  \r\n",
      "pytorch                   1.11.0              py3.8_cpu_0    pytorch\r\n",
      "pytorch-mutex             1.0                         cpu    pytorch\r\n",
      "pytz                      2022.1                   pypi_0    pypi\r\n",
      "pyzmq                     22.3.0           py38h295c915_2  \r\n",
      "qt                        5.9.7                h5867ecd_1  \r\n",
      "qtconsole                 5.3.0              pyhd3eb1b0_0  \r\n",
      "qtpy                      2.0.1              pyhd3eb1b0_0  \r\n",
      "readline                  8.1.2                h7f8727e_1  \r\n",
      "requests                  2.27.1             pyhd3eb1b0_0  \r\n",
      "scikit-learn              1.0.2                    pypi_0    pypi\r\n",
      "scipy                     1.8.0                    pypi_0    pypi\r\n",
      "send2trash                1.8.0              pyhd3eb1b0_1  \r\n",
      "setuptools                61.2.0           py38h06a4308_0  \r\n",
      "sip                       4.19.13          py38h295c915_0  \r\n",
      "six                       1.16.0             pyhd3eb1b0_1  \r\n",
      "sniffio                   1.2.0                    pypi_0    pypi\r\n",
      "soupsieve                 2.3.2.post1              pypi_0    pypi\r\n",
      "sqlite                    3.38.2               hc218d9a_0  \r\n",
      "stack_data                0.2.0              pyhd3eb1b0_0  \r\n",
      "terminado                 0.13.3                   pypi_0    pypi\r\n",
      "testpath                  0.5.0              pyhd3eb1b0_0  \r\n",
      "threadpoolctl             3.1.0                    pypi_0    pypi\r\n",
      "tinycss2                  1.1.1                    pypi_0    pypi\r\n",
      "tk                        8.6.11               h1ccaba5_0  \r\n",
      "torch                     1.11.0                   pypi_0    pypi\r\n",
      "torchaudio                0.11.0                   pypi_0    pypi\r\n",
      "torchvision               0.12.0                   pypi_0    pypi\r\n",
      "tornado                   6.1              py38h27cfd23_0  \r\n",
      "traitlets                 5.1.1              pyhd3eb1b0_0  \r\n",
      "typing-extensions         4.2.0                    pypi_0    pypi\r\n",
      "typing_extensions         4.1.1              pyh06a4308_0  \r\n",
      "urllib3                   1.26.9           py38h06a4308_0  \r\n",
      "wcwidth                   0.2.5              pyhd3eb1b0_0  \r\n",
      "webencodings              0.5.1                    pypi_0    pypi\r\n",
      "websocket-client          1.3.2                    pypi_0    pypi\r\n",
      "wheel                     0.37.1             pyhd3eb1b0_0  \r\n",
      "widgetsnbextension        3.5.2            py38h06a4308_0  \r\n",
      "xz                        5.2.5                h7f8727e_1  \r\n",
      "zeromq                    4.3.4                h2531618_0  \r\n",
      "zipp                      3.8.0                    pypi_0    pypi\r\n",
      "zlib                      1.2.12               h7f8727e_2  \r\n",
      "zstd                      1.4.9                haebb681_0  \r\n"
     ]
    }
   ],
   "source": [
    "!conda list"
   ]
  },
  {
   "cell_type": "code",
   "execution_count": 1,
   "id": "bd505e93",
   "metadata": {},
   "outputs": [],
   "source": [
    "#import torch\n",
    "#import torch.nn as nn\n",
    "\n",
    "#from torch.optim import Adam\n",
    "\n",
    "import os\n",
    "import numpy as np\n",
    "import pandas as pd\n",
    "from sklearn.linear_model import LogisticRegression\n",
    "from sklearn.metrics import f1_score\n",
    "from sklearn.linear_model import LinearRegression \n"
   ]
  },
  {
   "cell_type": "code",
   "execution_count": 2,
   "id": "13520edb",
   "metadata": {},
   "outputs": [],
   "source": [
    "data_list = os.listdir('data/train')"
   ]
  },
  {
   "cell_type": "code",
   "execution_count": 3,
   "id": "c9839be9",
   "metadata": {},
   "outputs": [],
   "source": [
    "df_list = []\n",
    "for i in data_list:\n",
    "    df_temp = pd.read_csv(\"data/train/\"+i,sep='|')\n",
    "    df_list.append(df_temp)"
   ]
  },
  {
   "cell_type": "code",
   "execution_count": 4,
   "id": "3cee2763",
   "metadata": {},
   "outputs": [
    {
     "data": {
      "text/plain": [
       "20000"
      ]
     },
     "execution_count": 4,
     "metadata": {},
     "output_type": "execute_result"
    }
   ],
   "source": [
    "len(df_list)"
   ]
  },
  {
   "cell_type": "code",
   "execution_count": 5,
   "id": "b41af2af",
   "metadata": {},
   "outputs": [],
   "source": [
    "def clip_df(df, label='SepsisLabel'):\n",
    "    df = df.drop(labels=['Unit1', 'Unit2','EtCO2','Bilirubin_direct','TroponinI','Fibrinogen'], axis=1)\n",
    "    index = df.loc[df[label] == 1].index\n",
    "    if len(index) == 0:\n",
    "        return df\n",
    "    else:\n",
    "        return df.loc[: index[0]]"
   ]
  },
  {
   "cell_type": "code",
   "execution_count": 6,
   "id": "6f5a68df",
   "metadata": {},
   "outputs": [],
   "source": [
    "new_df_list = []\n",
    "for df in df_list:\n",
    "    df_new = clip_df(df)\n",
    "    #print(df_new)\n",
    "    new_df_list.append(df_new)\n",
    "    #break"
   ]
  },
  {
   "cell_type": "code",
   "execution_count": 7,
   "id": "06935652",
   "metadata": {},
   "outputs": [],
   "source": [
    "values_dict = {}\n",
    "#Age_list = []\n",
    "\n",
    "for df in new_df_list:\n",
    "    means = df.mean().dropna().to_dict()\n",
    "    Age = means['Age']\n",
    "    Gender = means['Gender']\n",
    "    for column in means.keys():    \n",
    "        val = means[column]\n",
    "        if Gender not in values_dict.keys():\n",
    "            values_dict[Gender] = {} \n",
    "        if column not in values_dict[Gender].keys():\n",
    "            values_dict[Gender][column] = []\n",
    "        values_dict[Gender][column].append((Age,val))"
   ]
  },
  {
   "cell_type": "code",
   "execution_count": 8,
   "id": "5d1c04b5",
   "metadata": {},
   "outputs": [],
   "source": [
    "coef = {}\n",
    "for g in values_dict:\n",
    "    coef[g] = {}\n",
    "    for key,vals in values_dict[g].items():\n",
    "        X = np.array([x[0] for x in vals])\n",
    "        y = np.array([x[1] for x in vals])\n",
    "        reg = LinearRegression().fit(X.reshape(-1,1), y)\n",
    "        coef[g][key] = [reg.coef_[0],reg.intercept_]"
   ]
  },
  {
   "cell_type": "code",
   "execution_count": 9,
   "id": "a7e8aea7",
   "metadata": {},
   "outputs": [],
   "source": [
    "y = []\n",
    "X = []\n",
    "#Z = 0\n",
    "for df in new_df_list:\n",
    "    label = df.iloc[-1]['SepsisLabel']\n",
    "    means = df.mean().to_dict()\n",
    "    \n",
    "    df_nu = (1-df.isna().mean())\n",
    "    df_nu = df_nu.drop(labels=['Age', 'Gender','HospAdmTime','ICULOS','SepsisLabel'])\n",
    "    \n",
    "    for key in means.keys():\n",
    "        if np.isnan(means[key]):\n",
    "            means[key] = coef[means['Gender']][key][0]*means['Age'] + coef[means['Gender']][key][1]\n",
    "        \n",
    "    y.append(label)\n",
    "    means.pop('SepsisLabel',None)\n",
    "    means_list = list(means.values())\n",
    "    means_list.extend(list(df_nu))\n",
    "    X.append(means_list)"
   ]
  },
  {
   "cell_type": "code",
   "execution_count": 10,
   "id": "f464feb0",
   "metadata": {},
   "outputs": [],
   "source": [
    "x = np.array(X)\n",
    "y = np.array(y)\n",
    "\n",
    "data_num = x.shape[0]\n",
    "feat_num = x.shape[1]"
   ]
  },
  {
   "cell_type": "code",
   "execution_count": 11,
   "id": "d0202142",
   "metadata": {},
   "outputs": [
    {
     "name": "stdout",
     "output_type": "stream",
     "text": [
      "[LibLinear]iter  1 act 7.956e+03 pre 7.178e+03 delta 4.915e-03 f 1.386e+04 |g| 3.488e+06 CG   2\n",
      "iter  2 act 6.457e+02 pre 5.650e+02 delta 4.915e-03 f 5.907e+03 |g| 6.882e+05 CG   2\n",
      "cg reaches trust region boundary\n",
      "iter  3 act 1.249e+02 pre 1.540e+02 delta 4.915e-03 f 5.262e+03 |g| 1.484e+05 CG   4\n",
      "cg reaches trust region boundary\n",
      "iter  4 act 8.535e+01 pre 8.702e+01 delta 7.129e-03 f 5.137e+03 |g| 7.313e+04 CG   4\n",
      "cg reaches trust region boundary\n",
      "iter  5 act 6.000e+01 pre 6.044e+01 delta 1.241e-02 f 5.051e+03 |g| 1.722e+04 CG   4\n",
      "cg reaches trust region boundary\n",
      "iter  6 act 8.309e+01 pre 8.574e+01 delta 1.944e-02 f 4.991e+03 |g| 2.377e+04 CG   5\n",
      "cg reaches trust region boundary\n",
      "iter  7 act 5.059e+01 pre 5.101e+01 delta 1.944e-02 f 4.908e+03 |g| 1.847e+04 CG   6\n",
      "cg reaches trust region boundary\n",
      "iter  8 act 1.785e+01 pre 1.818e+01 delta 2.113e-02 f 4.858e+03 |g| 1.093e+04 CG   8\n",
      "cg reaches trust region boundary\n",
      "iter  9 act 1.233e+01 pre 1.181e+01 delta 2.268e-02 f 4.840e+03 |g| 3.963e+03 CG   8\n",
      "cg reaches trust region boundary\n",
      "iter 10 act 1.269e+01 pre 1.332e+01 delta 2.268e-02 f 4.828e+03 |g| 4.741e+03 CG   8\n",
      "cg reaches trust region boundary\n",
      "iter 11 act 1.331e+01 pre 1.314e+01 delta 2.688e-02 f 4.815e+03 |g| 4.842e+03 CG   9\n",
      "iter 12 act 3.894e+00 pre 3.932e+00 delta 2.688e-02 f 4.802e+03 |g| 1.135e+04 CG   6\n",
      "cg reaches trust region boundary\n",
      "iter 13 act 9.957e+00 pre 1.004e+01 delta 3.473e-02 f 4.798e+03 |g| 1.970e+03 CG   8\n",
      "cg reaches trust region boundary\n",
      "iter 14 act 1.336e+01 pre 1.314e+01 delta 3.558e-02 f 4.788e+03 |g| 2.118e+03 CG  10\n",
      "cg reaches trust region boundary\n",
      "iter 15 act 1.746e+01 pre 1.754e+01 delta 4.266e-02 f 4.774e+03 |g| 2.694e+03 CG  11\n",
      "cg reaches trust region boundary\n",
      "iter 16 act 1.508e+01 pre 1.478e+01 delta 4.858e-02 f 4.757e+03 |g| 6.723e+03 CG  11\n",
      "iter 17 act 1.127e+00 pre 1.081e+00 delta 4.858e-02 f 4.742e+03 |g| 1.846e+04 CG   2\n",
      "cg reaches trust region boundary\n",
      "iter 18 act 2.131e+01 pre 2.135e+01 delta 7.216e-02 f 4.741e+03 |g| 2.752e+03 CG  11\n",
      "cg reaches trust region boundary\n",
      "iter 19 act 2.591e+01 pre 2.563e+01 delta 1.218e-01 f 4.719e+03 |g| 5.805e+03 CG  11\n",
      "iter 20 act 5.049e+00 pre 5.076e+00 delta 1.218e-01 f 4.693e+03 |g| 1.101e+04 CG   5\n",
      "cg reaches trust region boundary\n",
      "iter 21 act 2.637e+01 pre 2.580e+01 delta 1.287e-01 f 4.688e+03 |g| 1.482e+03 CG  12\n",
      "iter 22 act 2.074e+01 pre 2.113e+01 delta 1.287e-01 f 4.662e+03 |g| 7.166e+03 CG  10\n",
      "cg reaches trust region boundary\n",
      "iter 23 act 3.156e+01 pre 3.166e+01 delta 1.889e-01 f 4.641e+03 |g| 6.401e+03 CG  12\n",
      "iter 24 act 1.395e+01 pre 1.370e+01 delta 1.889e-01 f 4.610e+03 |g| 1.013e+04 CG   8\n",
      "cg reaches trust region boundary\n",
      "iter 25 act 3.930e+01 pre 3.945e+01 delta 2.429e-01 f 4.596e+03 |g| 4.034e+03 CG  12\n",
      "iter 26 act 3.992e+00 pre 4.542e+00 delta 2.429e-01 f 4.556e+03 |g| 3.227e+04 CG   2\n",
      "iter 27 act 1.330e+01 pre 1.369e+01 delta 2.429e-01 f 4.552e+03 |g| 1.044e+04 CG   7\n",
      "cg reaches trust region boundary\n",
      "iter 28 act 3.856e+01 pre 4.113e+01 delta 2.429e-01 f 4.539e+03 |g| 4.063e+03 CG  16\n",
      "iter 29 act 9.118e+00 pre 8.625e+00 delta 2.429e-01 f 4.501e+03 |g| 7.781e+04 CG   2\n",
      "iter 30 act 2.023e+01 pre 2.055e+01 delta 2.429e-01 f 4.492e+03 |g| 9.013e+03 CG  10\n",
      "iter 31 act 2.768e+00 pre 2.740e+00 delta 2.429e-01 f 4.471e+03 |g| 6.431e+03 CG   8\n",
      "cg reaches trust region boundary\n",
      "iter 32 act 3.700e+01 pre 3.747e+01 delta 2.879e-01 f 4.469e+03 |g| 7.805e+02 CG  16\n",
      "iter 33 act 1.717e+01 pre 1.712e+01 delta 2.879e-01 f 4.432e+03 |g| 8.427e+03 CG  10\n",
      "iter 34 act 2.981e+00 pre 2.982e+00 delta 2.879e-01 f 4.414e+03 |g| 4.905e+03 CG  10\n",
      "cg reaches trust region boundary\n",
      "iter 35 act 3.101e+01 pre 3.148e+01 delta 2.913e-01 f 4.411e+03 |g| 7.916e+02 CG  18\n",
      "iter 36 act 5.906e+00 pre 5.753e+00 delta 2.913e-01 f 4.380e+03 |g| 1.397e+04 CG   5\n",
      "cg reaches trust region boundary\n",
      "iter 37 act 4.188e+01 pre 4.196e+01 delta 3.042e-01 f 4.374e+03 |g| 2.270e+03 CG  22\n",
      "iter 38 act 1.223e+01 pre 1.254e+01 delta 3.042e-01 f 4.333e+03 |g| 1.195e+04 CG   8\n",
      "iter 39 act 3.862e+00 pre 3.771e+00 delta 3.042e-01 f 4.320e+03 |g| 4.012e+03 CG  10\n",
      "cg reaches trust region boundary\n",
      "iter 40 act 3.225e+01 pre 3.178e+01 delta 4.810e-01 f 4.316e+03 |g| 1.098e+03 CG  22\n",
      "iter 41 act 9.479e+00 pre 9.707e+00 delta 4.810e-01 f 4.284e+03 |g| 3.390e+03 CG  15\n",
      "iter 42 act 1.085e+00 pre 1.079e+00 delta 4.810e-01 f 4.275e+03 |g| 3.176e+03 CG   8\n",
      "cg reaches trust region boundary\n",
      "iter 43 act 2.913e+01 pre 3.111e+01 delta 4.810e-01 f 4.274e+03 |g| 3.328e+02 CG  22\n",
      "iter 44 act 9.785e+00 pre 9.502e+00 delta 4.810e-01 f 4.245e+03 |g| 9.961e+03 CG   6\n",
      "cg reaches trust region boundary\n",
      "iter 45 act 3.977e+01 pre 3.934e+01 delta 5.085e-01 f 4.235e+03 |g| 2.582e+03 CG  37\n",
      "iter 46 act 2.303e-01 pre 2.292e-01 delta 5.085e-01 f 4.195e+03 |g| 9.895e+03 CG   2\n",
      "cg reaches trust region boundary\n",
      "iter 47 act 3.480e+01 pre 3.513e+01 delta 5.181e-01 f 4.195e+03 |g| 7.195e+02 CG  38\n",
      "iter 48 act 2.594e-01 pre 2.580e-01 delta 5.181e-01 f 4.160e+03 |g| 1.061e+04 CG   2\n",
      "cg reaches trust region boundary\n",
      "iter 49 act 3.157e+01 pre 2.997e+01 delta 5.950e-01 f 4.160e+03 |g| 7.609e+02 CG  38\n",
      "iter 50 act 2.319e+00 pre 2.430e+00 delta 5.950e-01 f 4.128e+03 |g| 3.172e+04 CG   1\n",
      "iter 51 act 2.025e+00 pre 2.012e+00 delta 5.950e-01 f 4.126e+03 |g| 2.553e+03 CG  10\n",
      "cg reaches trust region boundary\n",
      "iter 52 act 1.731e+01 pre 1.820e+01 delta 5.950e-01 f 4.124e+03 |g| 6.069e+02 CG  39\n",
      "iter 53 act 1.042e-01 pre 1.022e-01 delta 5.950e-01 f 4.106e+03 |g| 6.710e+03 CG   2\n",
      "cg reaches trust region boundary\n",
      "iter 54 act 2.112e+01 pre 2.110e+01 delta 6.158e-01 f 4.106e+03 |g| 5.199e+02 CG  48\n",
      "iter 55 act 5.097e-01 pre 5.113e-01 delta 6.158e-01 f 4.085e+03 |g| 6.285e+03 CG   4\n",
      "cg reaches trust region boundary\n",
      "iter 56 act 1.692e+01 pre 1.687e+01 delta 6.402e-01 f 4.085e+03 |g| 3.033e+02 CG  48\n",
      "iter 57 act 7.152e-01 pre 7.117e-01 delta 6.402e-01 f 4.068e+03 |g| 4.231e+03 CG   6\n",
      "cg reaches trust region boundary\n",
      "iter 58 act 1.450e+01 pre 1.453e+01 delta 6.896e-01 f 4.067e+03 |g| 3.355e+02 CG  52\n",
      "iter 59 act 3.914e-01 pre 3.939e-01 delta 6.896e-01 f 4.053e+03 |g| 8.623e+03 CG   3\n",
      "cg reaches trust region boundary\n",
      "iter 60 act 1.177e+01 pre 1.165e+01 delta 7.125e-01 f 4.052e+03 |g| 4.766e+02 CG  61\n",
      "iter 61 act 1.102e-01 pre 1.092e-01 delta 7.125e-01 f 4.040e+03 |g| 7.118e+03 CG   1\n",
      "cg reaches trust region boundary\n",
      "iter 62 act 1.013e+01 pre 1.019e+01 delta 7.132e-01 f 4.040e+03 |g| 3.273e+02 CG  65\n",
      "iter 63 act 3.555e-01 pre 3.546e-01 delta 7.132e-01 f 4.030e+03 |g| 1.040e+03 CG   6\n",
      "cg reaches trust region boundary\n",
      "iter 64 act 8.812e+00 pre 8.772e+00 delta 8.179e-01 f 4.030e+03 |g| 1.463e+02 CG  67\n",
      "iter 65 act 2.332e-01 pre 2.343e-01 delta 8.179e-01 f 4.021e+03 |g| 2.265e+03 CG   4\n",
      "cg reaches trust region boundary\n",
      "iter 66 act 7.233e+00 pre 7.220e+00 delta 1.106e+00 f 4.021e+03 |g| 2.002e+02 CG  68\n",
      "iter 67 act 1.882e-01 pre 1.928e-01 delta 1.106e+00 f 4.014e+03 |g| 6.108e+03 CG   2\n",
      "iter 68 act 1.511e-03 pre 1.509e-03 delta 1.106e+00 f 4.013e+03 |g| 3.924e+02 CG   4\n",
      "cg reaches trust region boundary\n",
      "iter 69 act 5.081e+00 pre 5.038e+00 delta 1.221e+00 f 4.013e+03 |g| 3.484e+01 CG  68\n",
      "iter 70 act 1.015e-01 pre 1.010e-01 delta 1.221e+00 f 4.008e+03 |g| 1.356e+03 CG   5\n",
      "cg reaches trust region boundary\n",
      "iter 71 act 3.605e+00 pre 3.581e+00 delta 1.232e+00 f 4.008e+03 |g| 6.098e+01 CG  99\n",
      "iter 72 act 6.984e-02 pre 6.959e-02 delta 1.232e+00 f 4.005e+03 |g| 1.615e+03 CG   5\n",
      "iter 73 act 3.158e-01 pre 3.162e-01 delta 1.232e+00 f 4.005e+03 |g| 6.786e+01 CG  42\n",
      "iter 74 act 1.954e-05 pre 1.954e-05 delta 1.232e+00 f 4.004e+03 |g| 8.583e+01 CG   2\n"
     ]
    }
   ],
   "source": [
    "clf = LogisticRegression(max_iter=2000,verbose=1,solver='liblinear').fit(x, y)"
   ]
  },
  {
   "cell_type": "code",
   "execution_count": 12,
   "id": "d4350934",
   "metadata": {},
   "outputs": [],
   "source": [
    "data_list_test = os.listdir('data/test')\n",
    "\n",
    "df_list_test = []\n",
    "for i in data_list_test:\n",
    "    df_temp = pd.read_csv(\"data/test/\"+i,sep='|')\n",
    "    df_list_test.append(df_temp)\n",
    "    \n",
    "\n",
    "new_df_list_test = []\n",
    "for df in df_list_test:\n",
    "    df_new = clip_df(df)\n",
    "    new_df_list_test.append(df_new)\n",
    "    \n",
    "    \n",
    "y_test = []\n",
    "X_test = []\n",
    "#Z = 0\n",
    "for df in new_df_list_test:\n",
    "    label = df.iloc[-1]['SepsisLabel']\n",
    "    means = df.mean().to_dict()\n",
    "    \n",
    "    df_nu = (1-df.isna().mean())\n",
    "    df_nu = df_nu.drop(labels=['Age', 'Gender','HospAdmTime','ICULOS','SepsisLabel'])\n",
    "    \n",
    "    for key in means.keys():\n",
    "        if np.isnan(means[key]):\n",
    "            means[key] = coef[means['Gender']][key][0]*means['Age'] + coef[means['Gender']][key][1]\n",
    "        \n",
    "    y_test.append(label)\n",
    "    means.pop('SepsisLabel',None)\n",
    "    means_list = list(means.values())\n",
    "    means_list.extend(list(df_nu))\n",
    "    X_test.append(means_list)"
   ]
  },
  {
   "cell_type": "code",
   "execution_count": 13,
   "id": "6fb05449",
   "metadata": {},
   "outputs": [],
   "source": [
    "x_test = np.array(X_test)\n",
    "y_test = np.array(y_test)\n",
    "\n",
    "data_num = x_test.shape[0]\n",
    "feat_num = x_test.shape[1]"
   ]
  },
  {
   "cell_type": "code",
   "execution_count": 14,
   "id": "1d1e8dc4",
   "metadata": {},
   "outputs": [
    {
     "name": "stdout",
     "output_type": "stream",
     "text": [
      "(10000, 64)\n"
     ]
    }
   ],
   "source": [
    "print(x_test.shape)"
   ]
  },
  {
   "cell_type": "code",
   "execution_count": 17,
   "id": "65e5dbe5",
   "metadata": {},
   "outputs": [],
   "source": [
    "y_pred_test = clf.predict(x_test)"
   ]
  },
  {
   "cell_type": "code",
   "execution_count": 19,
   "id": "03d7b5e0",
   "metadata": {},
   "outputs": [
    {
     "data": {
      "text/plain": [
       "0.5797071250282634"
      ]
     },
     "execution_count": 19,
     "metadata": {},
     "output_type": "execute_result"
    }
   ],
   "source": [
    "f1_score(y_test, y_pred_test, average='macro')"
   ]
  },
  {
   "cell_type": "code",
   "execution_count": 21,
   "id": "63e10b19",
   "metadata": {},
   "outputs": [
    {
     "data": {
      "text/plain": [
       "0.19661016949152543"
      ]
     },
     "execution_count": 21,
     "metadata": {},
     "output_type": "execute_result"
    }
   ],
   "source": [
    "f1_score(y_test, y_pred_test, average='binary')"
   ]
  },
  {
   "cell_type": "code",
   "execution_count": 22,
   "id": "b56f85bf",
   "metadata": {},
   "outputs": [
    {
     "name": "stdout",
     "output_type": "stream",
     "text": [
      "(20000, 64) (10000, 64)\n"
     ]
    }
   ],
   "source": [
    "print(x.shape, x_test.shape)"
   ]
  },
  {
   "cell_type": "code",
   "execution_count": 23,
   "id": "c6d53092",
   "metadata": {},
   "outputs": [
    {
     "data": {
      "text/plain": [
       "array([[ 1.46554652e-02,  4.18049159e-02,  3.43574764e-01,\n",
       "         6.35682338e-03, -2.19765265e-02,  8.64702315e-04,\n",
       "         5.32327896e-02,  9.50686582e-02, -4.22636281e-02,\n",
       "        -7.87157112e-04, -1.91235372e+00, -1.96199561e-02,\n",
       "         3.31649793e-03, -9.31846526e-05,  4.88459390e-03,\n",
       "        -6.85640313e-04, -1.61449680e-01, -5.24828322e-03,\n",
       "         7.32851366e-02,  1.26068794e-03, -1.50289072e-01,\n",
       "         2.69965939e-01, -3.68409806e-02, -2.55801042e-01,\n",
       "         9.99787069e-03,  3.84495516e-02, -1.24232637e-01,\n",
       "        -1.07973370e-04,  1.61645736e-02,  6.77460422e-05,\n",
       "         5.72612258e-03,  1.30016587e-01, -6.31292954e-04,\n",
       "         3.70860486e-02, -4.30111887e+00,  2.91110690e-01,\n",
       "        -1.07538206e+00, -2.16860202e+00,  2.66177868e+00,\n",
       "         1.78595582e-01, -9.33241535e-01,  3.06113957e-01,\n",
       "        -2.14384869e-01,  3.80985901e+00, -1.22197699e-01,\n",
       "         8.83780516e-01, -7.58745803e-01,  1.64641893e+00,\n",
       "        -1.80414743e-01,  1.21828209e+00,  1.14391289e+00,\n",
       "        -4.24636598e-01, -9.56037914e-01, -7.25718381e-01,\n",
       "         2.74360865e+00,  3.02969078e-01,  1.30190087e+00,\n",
       "         1.10355574e-01,  1.12051200e+00, -1.40346373e+00,\n",
       "        -1.41210652e-01,  2.57239408e+00,  6.44229350e-01,\n",
       "         1.32979393e-01]])"
      ]
     },
     "execution_count": 23,
     "metadata": {},
     "output_type": "execute_result"
    }
   ],
   "source": [
    "clf.coef_"
   ]
  },
  {
   "cell_type": "code",
   "execution_count": null,
   "id": "7a9e2124",
   "metadata": {},
   "outputs": [],
   "source": []
  }
 ],
 "metadata": {
  "kernelspec": {
   "display_name": "HW1 env",
   "language": "python",
   "name": "hw1_env"
  },
  "language_info": {
   "codemirror_mode": {
    "name": "ipython",
    "version": 3
   },
   "file_extension": ".py",
   "mimetype": "text/x-python",
   "name": "python",
   "nbconvert_exporter": "python",
   "pygments_lexer": "ipython3",
   "version": "3.8.13"
  }
 },
 "nbformat": 4,
 "nbformat_minor": 5
}
